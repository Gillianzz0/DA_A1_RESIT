{
 "cells": [
  {
   "cell_type": "markdown",
   "metadata": {
    "id": "rbgjVp6BXGCT"
   },
   "source": [
    "\n",
    "# **Assignment 1**\n",
    "\n",
    "\n",
    "## Task 1. Correlation\n",
    "We will use the data example from the textbook \"Statistical Analysis with The General Linear Model\" by Miller and Haden (2013), Chapter 11.\n",
    "\n",
    "As in Miller and Haden, we have five columns:\n",
    "\n",
    "-Participant (Participant),\n",
    "\n",
    "-Reading Ability (Abil),\n",
    "\n",
    "-Intelligence (IQ),\n",
    "\n",
    "-Number of minutes spent reading at home per week (Home),\n",
    "\n",
    "-Number of minutes spent watching TV per week (TV).\n",
    "\n",
    "\n",
    "For the task we will focus on the relationship between Reading Ability and IQ, but for further practice you can look at other relationships on your own."
   ]
  },
  {
   "cell_type": "markdown",
   "metadata": {
    "id": "Z4cXzKORYFaD"
   },
   "source": [
    "**Question 1**:\n",
    "\n",
    "a. Check whether the data is interval, ratio, or ordinal.\n",
    "\n",
    "b. Check whether there is a data point for each participant on both variables.\n",
    "\n",
    "c. Check whether the data is normally distributed in both variables.\n",
    "\n",
    "d. Create a scatter plot with Reading Ability being the x-axis and IQ, being the y-axis.\n",
    "\n",
    "e. Draw a correlation line on the scatter plot.\n",
    "\n",
    "\n",
    "**Instructions:**\n",
    "\n",
    "1. Load the necessary libraries and explain why you need them (\"#used for ...\").\n",
    "\n",
    "2. Read the MillerHadenData.csv file into a DataFrame and name it \"df_mh\"."
   ]
  },
  {
   "cell_type": "code",
   "execution_count": 3,
   "metadata": {
    "scrolled": true
   },
   "outputs": [
    {
     "name": "stdout",
     "output_type": "stream",
     "text": [
      "Requirement already satisfied: pingouin in /Users/gillian/anaconda3/lib/python3.11/site-packages (0.5.4)\n",
      "Requirement already satisfied: numpy in /Users/gillian/anaconda3/lib/python3.11/site-packages (from pingouin) (1.24.3)\n",
      "Requirement already satisfied: scipy in /Users/gillian/anaconda3/lib/python3.11/site-packages (from pingouin) (1.10.1)\n",
      "Requirement already satisfied: pandas>=1.5 in /Users/gillian/anaconda3/lib/python3.11/site-packages (from pingouin) (1.5.3)\n",
      "Requirement already satisfied: matplotlib in /Users/gillian/anaconda3/lib/python3.11/site-packages (from pingouin) (3.7.1)\n",
      "Requirement already satisfied: seaborn in /Users/gillian/anaconda3/lib/python3.11/site-packages (from pingouin) (0.12.2)\n",
      "Requirement already satisfied: statsmodels in /Users/gillian/anaconda3/lib/python3.11/site-packages (from pingouin) (0.14.0)\n",
      "Requirement already satisfied: scikit-learn in /Users/gillian/anaconda3/lib/python3.11/site-packages (from pingouin) (1.3.0)\n",
      "Requirement already satisfied: pandas-flavor in /Users/gillian/anaconda3/lib/python3.11/site-packages (from pingouin) (0.6.0)\n",
      "Requirement already satisfied: tabulate in /Users/gillian/anaconda3/lib/python3.11/site-packages (from pingouin) (0.8.10)\n",
      "Requirement already satisfied: python-dateutil>=2.8.1 in /Users/gillian/anaconda3/lib/python3.11/site-packages (from pandas>=1.5->pingouin) (2.8.2)\n",
      "Requirement already satisfied: pytz>=2020.1 in /Users/gillian/anaconda3/lib/python3.11/site-packages (from pandas>=1.5->pingouin) (2022.7)\n",
      "Requirement already satisfied: contourpy>=1.0.1 in /Users/gillian/anaconda3/lib/python3.11/site-packages (from matplotlib->pingouin) (1.0.5)\n",
      "Requirement already satisfied: cycler>=0.10 in /Users/gillian/anaconda3/lib/python3.11/site-packages (from matplotlib->pingouin) (0.11.0)\n",
      "Requirement already satisfied: fonttools>=4.22.0 in /Users/gillian/anaconda3/lib/python3.11/site-packages (from matplotlib->pingouin) (4.25.0)\n",
      "Requirement already satisfied: kiwisolver>=1.0.1 in /Users/gillian/anaconda3/lib/python3.11/site-packages (from matplotlib->pingouin) (1.4.4)\n",
      "Requirement already satisfied: packaging>=20.0 in /Users/gillian/anaconda3/lib/python3.11/site-packages (from matplotlib->pingouin) (23.0)\n",
      "Requirement already satisfied: pillow>=6.2.0 in /Users/gillian/anaconda3/lib/python3.11/site-packages (from matplotlib->pingouin) (9.4.0)\n",
      "Requirement already satisfied: pyparsing>=2.3.1 in /Users/gillian/anaconda3/lib/python3.11/site-packages (from matplotlib->pingouin) (3.0.9)\n",
      "Requirement already satisfied: xarray in /Users/gillian/anaconda3/lib/python3.11/site-packages (from pandas-flavor->pingouin) (2023.6.0)\n",
      "Requirement already satisfied: joblib>=1.1.1 in /Users/gillian/anaconda3/lib/python3.11/site-packages (from scikit-learn->pingouin) (1.2.0)\n",
      "Requirement already satisfied: threadpoolctl>=2.0.0 in /Users/gillian/anaconda3/lib/python3.11/site-packages (from scikit-learn->pingouin) (2.2.0)\n",
      "Requirement already satisfied: patsy>=0.5.2 in /Users/gillian/anaconda3/lib/python3.11/site-packages (from statsmodels->pingouin) (0.5.3)\n",
      "Requirement already satisfied: six in /Users/gillian/anaconda3/lib/python3.11/site-packages (from patsy>=0.5.2->statsmodels->pingouin) (1.16.0)\n",
      "Note: you may need to restart the kernel to use updated packages.\n"
     ]
    }
   ],
   "source": [
    "pip install pingouin"
   ]
  },
  {
   "cell_type": "code",
   "execution_count": 29,
   "metadata": {
    "id": "140M8Z4qYn_G"
   },
   "outputs": [],
   "source": [
    "# Load libraries\n",
    "import pandas as pd \n",
    "import seaborn as sns \n",
    "import matplotlib  \n",
    "from matplotlib import pyplot as plt \n",
    "import pylab \n",
    "import pingouin as pg\n",
    "import numpy as np\n",
    "from scipy.stats import norm #used to plot theoretical normal distribution\n",
    "from scipy.stats import shapiro #used for Shapiro test\n",
    "from scipy.stats import pearsonr #used for pearso\n",
    "\n",
    "# Read the CSV file into a DataFrame\n",
    "df_mh = pd.read_csv('/Users/gillian/Downloads/A1_analysing_data/data for A1/MillerHadenData.csv')"
   ]
  },
  {
   "cell_type": "code",
   "execution_count": 30,
   "metadata": {
    "id": "rwqidw5q2D1n"
   },
   "outputs": [
    {
     "name": "stdout",
     "output_type": "stream",
     "text": [
      "   Participant  Abil   IQ  Home   TV\n",
      "0            1    61  107   144  487\n",
      "1            2    56  109   123  608\n",
      "2            3    45   81   108  640\n",
      "3            4    66  100   155  493\n",
      "4            5    49   92   103  636\n",
      "45 67 [45, 48, 49, 50, 51, 52, 54, 55, 56, 57, 61, 62, 66, 67]\n",
      "81 118 [81, 82, 92, 94, 95, 96, 98, 99, 100, 101, 103, 104, 105, 107, 109, 114, 117, 118]\n"
     ]
    }
   ],
   "source": [
    "# Q1a (code):\n",
    "# Display first few rows of the dataframe\n",
    "print(df_mh.head())\n",
    "\n",
    "# Check data types and information\n",
    "print(min(df_mh['Abil']), max(df_mh['Abil']), sorted(df_mh['Abil'].unique()))\n",
    "\n",
    "print(min(df_mh['IQ']), max(df_mh['IQ']), sorted(df_mh['IQ'].unique()))\n",
    "\n",
    "#Clearly the data for both Ability and IQ is interval. This is evident from the fact that there is no zero point, additionally the intervals between the unique values seem to be consistent. \n"
   ]
  },
  {
   "cell_type": "code",
   "execution_count": 31,
   "metadata": {
    "id": "Edd9mYgi2Jar"
   },
   "outputs": [
    {
     "name": "stdout",
     "output_type": "stream",
     "text": [
      "Missing values in IQ: 0\n",
      "Missing values in Reading Ability: 0\n",
      "Rows with any missing values: 0\n"
     ]
    }
   ],
   "source": [
    "# Q1b (code):\n",
    "# Check for missing values in IQ and Reading Ability\n",
    "print(\"Missing values in IQ:\", df_mh['IQ'].isnull().sum())  #https://miamioh.edu/centers-institutes/center-for-analytics-data-science/students/coding-tutorials/python/data-cleaning.html\n",
    "print(\"Missing values in Reading Ability:\", df_mh['Abil'].isnull().sum())\n",
    "\n",
    "# Check whether there is a data point for each participant on both variables\n",
    "print(\"Rows with any missing values:\", df_mh.isnull().any(axis=1).sum())  #https://datatofish.com/rows-with-nan-pandas-dataframe/"
   ]
  },
  {
   "cell_type": "code",
   "execution_count": 32,
   "metadata": {
    "id": "3ALe0fjr2K5h"
   },
   "outputs": [
    {
     "data": {
      "image/png": "[encoded data removed]",
      "text/plain": [
       "<Figure size 1200x600 with 2 Axes>"
      ]
     },
     "metadata": {},
     "output_type": "display_data"
    },
    {
     "name": "stdout",
     "output_type": "stream",
     "text": [
      "ShapiroResult(statistic=0.9487950205802917, pvalue=0.2354886382818222)\n",
      "ShapiroResult(statistic=0.9636043310165405, pvalue=0.4908201992511749)\n"
     ]
    }
   ],
   "source": [
    "# Q1c (code):\n",
    "# Check data distribution\n",
    "from scipy.stats import shapiro\n",
    "\n",
    "# Plot histogram for Reading Ability and IQ\n",
    "df_mh[['Abil', 'IQ']].hist(bins=10, edgecolor='k', figsize=(12, 6)) #https://www.geeksforgeeks.org/plotting-histogram-in-python-using-matplotlib/\n",
    "plt.show()\n",
    "\n",
    "\n",
    "\n",
    "# Since both variables are interval data, it is appropriate to use the Shapiro-Wilk test to test the null hypothesis of whether the data is normally distributed。\n",
    "\n",
    "# Perform Shapiro-Wilk test\n",
    "print(shapiro(df_mh['Abil'])) #https://docs.scipy.org/doc/scipy/reference/generated/scipy.stats.shapiro.html\n",
    "print(shapiro(df_mh['IQ']))\n",
    "\n",
    "# Both p-values are above 0.05 or 0.1 meaning we fail to reject the null hypothesis for both variables that the data is normally distributed on the 5% and 10% significance level\n"
   ]
  },
  {
   "cell_type": "code",
   "execution_count": 33,
   "metadata": {
    "id": "xaQ300fY2MPe"
   },
   "outputs": [
    {
     "data": {
      "text/plain": [
       "Text(0, 0.5, 'IQ')"
      ]
     },
     "execution_count": 33,
     "metadata": {},
     "output_type": "execute_result"
    },
    {
     "data": {
      "image/png": "[encoded data removed]",
      "text/plain": [
       "<Figure size 640x480 with 1 Axes>"
      ]
     },
     "metadata": {},
     "output_type": "display_data"
    }
   ],
   "source": [
    "# Q1d (code):\n",
    "# Scatter plot\n",
    "plt.scatter(df_mh['Abil'],df_mh['IQ']) #https://www.w3schools.com/python/python_ml_scatterplot.asp\n",
    "plt.xlabel('Ability')\n",
    "plt.ylabel('IQ')"
   ]
  },
  {
   "cell_type": "code",
   "execution_count": 34,
   "metadata": {
    "id": "Zpkwqc382N06"
   },
   "outputs": [
    {
     "data": {
      "text/plain": [
       "Text(0, 0.5, 'IQ')"
      ]
     },
     "execution_count": 34,
     "metadata": {},
     "output_type": "execute_result"
    },
    {
     "data": {
      "image/png": "[encoded data removed]",
      "text/plain": [
       "<Figure size 640x480 with 1 Axes>"
      ]
     },
     "metadata": {},
     "output_type": "display_data"
    }
   ],
   "source": [
    "# Q1e (code):\n",
    "# Correlation line\n",
    "plt.scatter(df_mh['Abil'],df_mh['IQ'])\n",
    "sns.regplot(x='Abil', y='IQ', data=df_mh) #https://www.statology.org/scatterplot-with-regression-line-python/\n",
    "plt.xlabel('Ability')\n",
    "plt.ylabel('IQ')"
   ]
  },
  {
   "cell_type": "markdown",
   "metadata": {
    "id": "tKtW2diqZq1S"
   },
   "source": [
    "**Question 2**:\n",
    "\n",
    "a. Which correlation coefficient test can we use, Pearson or Spearman? Briefly explian why based on the results of Question 1.\n",
    "\n",
    "b. Conduct a correlation coefficient test.\n",
    "\n",
    "c. Interpret the result (direction and strength of the association between the two varibles)"
   ]
  },
  {
   "cell_type": "code",
   "execution_count": 35,
   "metadata": {
    "id": "t5GRVxHwaKIS"
   },
   "outputs": [],
   "source": [
    "# Q2a (answer with words):\n",
    "# Since we failed to reject the null hypothesis that the data is normally distributed this suggests that the data could be normal\n",
    "# Furthermore the correlation seems to be linear from the correlation plot\n",
    "# Hence, Pearson correlation coefficient test seems the most appropriate. But since Spearman is non-parametric this one can also be used\n"
   ]
  },
  {
   "cell_type": "code",
   "execution_count": 36,
   "metadata": {
    "id": "LTSp6xMFaKgf"
   },
   "outputs": [
    {
     "name": "stdout",
     "output_type": "stream",
     "text": [
      "PearsonRResult(statistic=0.45116993876507616, pvalue=0.02359260883361457)\n"
     ]
    }
   ],
   "source": [
    "# Q2b (code):\n",
    "# Conduct the correlation coefficient test using pingouin\n",
    "\n",
    "print(pearsonr(df_mh['Abil'], df_mh['IQ'])) #https://docs.scipy.org/doc/scipy/reference/generated/scipy.stats.pearsonr.html\n",
    "\n"
   ]
  },
  {
   "cell_type": "code",
   "execution_count": 37,
   "metadata": {
    "id": "m_3aCSG7ylFJ"
   },
   "outputs": [],
   "source": [
    "# Q2c (answer with words):\n",
    "\n",
    "# We have a p-value of 0.0236 hence we reject the null hypothesis that there is no assocation with both variables at the 5% significance level.\n",
    "# This suggests that there is correlation between both variables.\n",
    "# Furthermore the coefficient is 0.44 and positive suggest that an increased IQ is associated with an increased reading ability.\n"
   ]
  },
  {
   "cell_type": "markdown",
   "metadata": {
    "id": "mogdaz8P27oU"
   },
   "source": [
    "## Task 2. Chi-square Test\n",
    "We will continue to use the data example from Task 1.\n",
    "\n",
    "We want to explore whether there are significant differences in the amount of time spent reading at home per week (Home) among people with different reading abilities (Reading Ability). Therefore, we will divide the reading ability of all participants into two groups. The first group is those with low reading ability (Reading Ability at or below the rounded average), and the second group is those with high reading ability (Reading Ability above the rounded average). We will store this grouping in a new column named \"Rank_Abil\".\n",
    "\n",
    "\n",
    "Similarly, the reading time is divided into two different scenarios: the first scenario is infrequent reading (Home at or below the rounded average), and the other is frequent reading (Reading Ability above the rounded average). We will store this grouping in a new column named \"Rank_Home\".\n",
    "\n",
    "\n",
    "Then, construct a Contingency Matrix and perform a Chi-square test.\n",
    "\n",
    "**Question 3**:\n",
    "\n",
    "a. Please state the null hypothesis (H0) and alternative hypothesis (H1) for this Chi-square test.\n",
    "\n",
    "b. Based on the task description, add new columns “Rank_Abil” and \"Rank_Home\" to the dataframe df_mh.\n",
    "\n",
    "c. Construct a Contingency Matrix.\n",
    "\n",
    "d. Perform a Chi-square test.\n",
    "\n",
    "e. Interpret the results of the Chi-square test (answer in text)."
   ]
  },
  {
   "cell_type": "code",
   "execution_count": 38,
   "metadata": {
    "id": "tIKHfEwG-Pte"
   },
   "outputs": [],
   "source": [
    "# Q3a (answer in words):\n",
    "# H0: Reading time at home and the reading ability are independent from eachother\n",
    "# H1：Reading time at home and reading ability are not independent"
   ]
  },
  {
   "cell_type": "code",
   "execution_count": 39,
   "metadata": {
    "id": "nlO-hmq2-V2Z"
   },
   "outputs": [
    {
     "name": "stdout",
     "output_type": "stream",
     "text": [
      "   Participant  Abil   IQ  Home   TV Rank_Abil Rank_Home\n",
      "0            1    61  107   144  487      High      High\n",
      "1            2    56  109   123  608      High       Low\n",
      "2            3    45   81   108  640       Low       Low\n",
      "3            4    66  100   155  493      High      High\n",
      "4            5    49   92   103  636       Low       Low\n"
     ]
    }
   ],
   "source": [
    "# Q3b (code):\n",
    "# Calculate the rounded average of Reading Ability and Home\n",
    "avg_abil = round(df_mh['Abil'].mean())\n",
    "avg_home = round(df_mh['Home'].mean())\n",
    "\n",
    "# # Create the Rank_Abil column\n",
    "df_mh['Rank_Abil'] = df_mh['Abil'].apply(lambda x: 'Low' if x <= avg_abil else 'High') #https://www.geeksforgeeks.org/applying-lambda-functions-to-pandas-dataframe/\n",
    "\n",
    "# # Create the Rank_Home column\n",
    "df_mh['Rank_Home'] = df_mh['Home'].apply(lambda x: 'Low' if x <= avg_home else 'High')\n",
    "\n",
    "# Display the first few rows to verify\n",
    "print(df_mh.head())"
   ]
  },
  {
   "cell_type": "code",
   "execution_count": 40,
   "metadata": {
    "id": "jjtp4cm4-Y36"
   },
   "outputs": [
    {
     "name": "stdout",
     "output_type": "stream",
     "text": [
      "Contingency Matrix:\n",
      "Rank_Home  High  Low\n",
      "Rank_Abil           \n",
      "High          8    2\n",
      "Low           3   12\n"
     ]
    }
   ],
   "source": [
    "# Q3c (code):\n",
    "# Construct Contingency Matrix\n",
    "contingency_matrix = pd.crosstab(df_mh['Rank_Abil'], df_mh['Rank_Home'])\n",
    "print(\"Contingency Matrix:\")\n",
    "print(contingency_matrix)"
   ]
  },
  {
   "cell_type": "code",
   "execution_count": 41,
   "metadata": {
    "id": "gyDS8hq2-bmx"
   },
   "outputs": [
    {
     "name": "stdout",
     "output_type": "stream",
     "text": [
      "Chi2ContingencyResult(statistic=6.500270562770561, pvalue=0.010785807794066234, dof=1, expected_freq=array([[4.4, 5.6],\n",
      "       [6.6, 8.4]]))\n"
     ]
    }
   ],
   "source": [
    "# Q3d (code):\n",
    "# Perform the Chi-square test\n",
    "from scipy.stats import chi2_contingency\n",
    "print(chi2_contingency(contingency_matrix))\n"
   ]
  },
  {
   "cell_type": "code",
   "execution_count": 42,
   "metadata": {
    "id": "fj0gW0pS-dN5"
   },
   "outputs": [],
   "source": [
    "# Q3e (answer in words):\n",
    "#The Chi-square test results in a p-value of 0.011, hence we reject the null hypothesis under the 5% significance level. \n",
    "#Concluding that there is a significant correlation between reading ability and the time you read at home."
   ]
  },
  {
   "cell_type": "markdown",
   "metadata": {
    "id": "FgYRxqqpaUIk"
   },
   "source": [
    "## Task 3. Two-sample t-test\n",
    "As we discussed on Week 3, Two-sample designs are very useful when we want to know whether there is a difference between groups on a particular variable.\n",
    "\n",
    "In this assignment, you will be guided to replicate the Experiment 4 (p. 887-888) from the paper below, focusing on understanding the data through descriptive statistics, visualizing distributions, testing assumptions (normality and variance homogeneity), and finally performing the independent t-test.\n",
    "\n",
    "Schroeder, J. and Epley, N. (2015). The sound of intellect: Speech reveals a thoughtful mind, increasing a job candidate's appeal. Psychological Science, 26, 277--891.\n",
    "\n",
    "\n",
    "As we explained during Week 3 lecture, there are different types of two-sample designs depending on whether or not the two groups are independent (e.g., different participants in different conditions) or not (e.g., same participants in different conditions). In this course we focus on independent samples, which typically means that the observations in the two groups are unrelated - usually meaning different people. But in real practice you will need to go through similar procedures to determine which is the proper statistical test to use.\n",
    "\n",
    "\n",
    "\n",
    "\n",
    "### Background of data: Speech as indicator of intellect\n",
    "To recap on Experiment 4, 39 professional recruiters from Fortune 500 companies evaluated job pitches of M.B.A. candidates (Masters in Business Administration) from the University of Chicago Booth School of Business. The methods and results appear on pages 887--889 of the article if you want to look at them specifically for more details."
   ]
  },
  {
   "cell_type": "markdown",
   "metadata": {
    "id": "vIc57Glgn5Bb"
   },
   "source": [
    "###Step 1: Analyze the demographics of evaluators from the provided dataset\n",
    "\n",
    "**Instructions:**\n",
    "\n",
    "1. Load the necessary libraries (pandas, scipy, numpy, matplotlib.pyplot, seaborn) and explain why you need them (\"#used for ...\").\n",
    "\n",
    "2. Read the evaluators.csv file into a DataFrame.\n",
    "\n",
    "3. Calculate the mean and standard deviation of the age of the evaluators, handling missing values appropriately.\n",
    "\n",
    "4. Count how many male and female evaluators were in the study.\n",
    "\n",
    "**Question 4:**\n",
    "\n",
    "a. What was the mean age of the evaluators?\n",
    "What was the standard deviation of the age of the evaluators?\n",
    "\n",
    "b. How many participants were female and how many participants were male?\n"
   ]
  },
  {
   "cell_type": "code",
   "execution_count": 43,
   "metadata": {
    "id": "RgnTye-yojyH"
   },
   "outputs": [
    {
     "name": "stdout",
     "output_type": "stream",
     "text": [
      "   eval_id condition   age  sex\n",
      "0        1  listened  29.0  2.0\n",
      "1        2  listened  27.0  2.0\n",
      "2        3  listened  27.0  2.0\n",
      "3        4      read  40.0  2.0\n",
      "4        5      read  32.0  2.0\n"
     ]
    }
   ],
   "source": [
    "# Import necessary libraries\n",
    "from scipy import stats  # used for statistical tests\n",
    "import numpy as np  # used for numerical operations\n",
    "\n",
    "# Load the data\n",
    "df_evaluators = pd.read_csv('/Users/gillian/Downloads/A1_analysing_data/data for A1/evaluators.csv')\n",
    "\n",
    "# Display the first few rows of the dataframe\n",
    "print(df_evaluators.head())\n"
   ]
  },
  {
   "cell_type": "code",
   "execution_count": 44,
   "metadata": {
    "id": "eDw0XnX3BRhe"
   },
   "outputs": [
    {
     "name": "stdout",
     "output_type": "stream",
     "text": [
      "30.852941176470587\n",
      "6.238358141327351\n"
     ]
    }
   ],
   "source": [
    "# Q4a (code):\n",
    "# Calculate mean and standard deviation for age\n",
    "\n",
    "mean = df_evaluators['age'].mean()\n",
    "std = df_evaluators['age'].std()\n",
    "print(mean)\n",
    "print(std)"
   ]
  },
  {
   "cell_type": "code",
   "execution_count": 45,
   "metadata": {
    "id": "I0tU57R5ufRI"
   },
   "outputs": [
    {
     "name": "stdout",
     "output_type": "stream",
     "text": [
      "(array([ 1.,  2., nan]), array([ 4, 30,  5]))\n"
     ]
    }
   ],
   "source": [
    "# Q4b (code)\n",
    "# Count male and female evaluators\n",
    "# In the 'sex' column: 1 represents men and 2 represents women\n",
    "print(np.unique(df_evaluators['sex'], return_counts = True))\n",
    "\n",
    "#Thus, 4 men and 30 women. "
   ]
  },
  {
   "cell_type": "markdown",
   "metadata": {
    "id": "KK-MdZfdpDI3"
   },
   "source": [
    "###Step 2: Calculate overall intellect ratings from evaluators and prepare a combined dataset for analysis\n",
    "\n",
    "We are now going to calculate an overall intellect rating given by each evaluator. To break that down a bit, we are going to calculate how intellectual the evaluators (the raters) thought candidates were overall, depending on whether the evaluators read or listened to the candidates' resume pitches. This is calculated by averaging the ratings of competent, thoughtful and intelligent for each evaluator held within ratings.csv.\n",
    "\n",
    "Note: We are not looking at ratings to individual candidates; we are looking at overall ratings for each evaluator. This is a bit confusing but makes sense if you stop to think about it a little. You can think about it in terms of \"do raters rate differently depending on whether they read or listen to a resume pitch\".\n",
    "We will then combine the overall intellect rating with the overall impression ratings and overall hire ratings for each evaluator, all ready found in ratings.csv. In the end we will have a new new dataframe named \"ratings2\" - which has the below structure:\n",
    "\n",
    "**eval_id** shows the evaluator ID. Each evaluator has a different ID. So all the 1's are the same evaluator.\n",
    "\n",
    "**Category** shows the scale that they were rating on - intellect, hire, impression\n",
    "\n",
    "**Rating** shows the overall rating given by that evaluator on a given scale.\n",
    "\n",
    "**condition** shows whether that evaluator listened to (e.g., evaluators 1, 2 and 3), or read (e.g., evaluator 4) the resume.\n",
    "\n",
    "\n",
    "**Instructions:**\n",
    "\n",
    "1. Load the ratings.csv file.\n",
    "\n",
    "2. Filter and calculate the mean intellect rating for each evaluator.\n",
    "\n",
    "3. Combine this with overall impression and hire ratings to create a new DataFrame named \"rating2\".\n",
    "\n",
    "4. Merge this DataFrame with the evaluator demographics.\n",
    "\n",
    "**Question 5**:\n",
    "\n",
    "Print the head of \"rating2\".\n"
   ]
  },
  {
   "cell_type": "code",
   "execution_count": 46,
   "metadata": {
    "id": "l85NzSC-pj57"
   },
   "outputs": [
    {
     "data": {
      "text/html": [
       "<div>\n",
       "<style scoped>\n",
       "    .dataframe tbody tr th:only-of-type {\n",
       "        vertical-align: middle;\n",
       "    }\n",
       "\n",
       "    .dataframe tbody tr th {\n",
       "        vertical-align: top;\n",
       "    }\n",
       "\n",
       "    .dataframe thead th {\n",
       "        text-align: right;\n",
       "    }\n",
       "</style>\n",
       "<table border=\"1\" class=\"dataframe\">\n",
       "  <thead>\n",
       "    <tr style=\"text-align: right;\">\n",
       "      <th></th>\n",
       "      <th>eval_id</th>\n",
       "      <th>Category</th>\n",
       "      <th>Rating</th>\n",
       "    </tr>\n",
       "  </thead>\n",
       "  <tbody>\n",
       "    <tr>\n",
       "      <th>0</th>\n",
       "      <td>1</td>\n",
       "      <td>competent</td>\n",
       "      <td>6.0</td>\n",
       "    </tr>\n",
       "    <tr>\n",
       "      <th>1</th>\n",
       "      <td>1</td>\n",
       "      <td>thoughtful</td>\n",
       "      <td>6.0</td>\n",
       "    </tr>\n",
       "    <tr>\n",
       "      <th>2</th>\n",
       "      <td>1</td>\n",
       "      <td>intelligent</td>\n",
       "      <td>6.0</td>\n",
       "    </tr>\n",
       "    <tr>\n",
       "      <th>3</th>\n",
       "      <td>1</td>\n",
       "      <td>impression</td>\n",
       "      <td>7.0</td>\n",
       "    </tr>\n",
       "    <tr>\n",
       "      <th>4</th>\n",
       "      <td>1</td>\n",
       "      <td>hire</td>\n",
       "      <td>6.0</td>\n",
       "    </tr>\n",
       "  </tbody>\n",
       "</table>\n",
       "</div>"
      ],
      "text/plain": [
       "   eval_id     Category  Rating\n",
       "0        1    competent     6.0\n",
       "1        1   thoughtful     6.0\n",
       "2        1  intelligent     6.0\n",
       "3        1   impression     7.0\n",
       "4        1         hire     6.0"
      ]
     },
     "execution_count": 46,
     "metadata": {},
     "output_type": "execute_result"
    }
   ],
   "source": [
    "# Load ratings data\n",
    "df_ratings = pd.read_csv('/Users/gillian/Downloads/A1_analysing_data/data for A1/ratings.csv')\n",
    "df_ratings.head()\n"
   ]
  },
  {
   "cell_type": "code",
   "execution_count": 47,
   "metadata": {
    "id": "5dxtVUSMBZwf"
   },
   "outputs": [
    {
     "data": {
      "text/html": [
       "<div>\n",
       "<style scoped>\n",
       "    .dataframe tbody tr th:only-of-type {\n",
       "        vertical-align: middle;\n",
       "    }\n",
       "\n",
       "    .dataframe tbody tr th {\n",
       "        vertical-align: top;\n",
       "    }\n",
       "\n",
       "    .dataframe thead th {\n",
       "        text-align: right;\n",
       "    }\n",
       "</style>\n",
       "<table border=\"1\" class=\"dataframe\">\n",
       "  <thead>\n",
       "    <tr style=\"text-align: right;\">\n",
       "      <th></th>\n",
       "      <th>eval_id</th>\n",
       "      <th>Rating</th>\n",
       "      <th>Category</th>\n",
       "      <th>condition</th>\n",
       "    </tr>\n",
       "  </thead>\n",
       "  <tbody>\n",
       "    <tr>\n",
       "      <th>39</th>\n",
       "      <td>1</td>\n",
       "      <td>6.000000</td>\n",
       "      <td>hire</td>\n",
       "      <td>listened</td>\n",
       "    </tr>\n",
       "    <tr>\n",
       "      <th>78</th>\n",
       "      <td>1</td>\n",
       "      <td>7.000000</td>\n",
       "      <td>impression</td>\n",
       "      <td>listened</td>\n",
       "    </tr>\n",
       "    <tr>\n",
       "      <th>0</th>\n",
       "      <td>1</td>\n",
       "      <td>6.000000</td>\n",
       "      <td>intellect</td>\n",
       "      <td>listened</td>\n",
       "    </tr>\n",
       "    <tr>\n",
       "      <th>40</th>\n",
       "      <td>2</td>\n",
       "      <td>4.000000</td>\n",
       "      <td>hire</td>\n",
       "      <td>listened</td>\n",
       "    </tr>\n",
       "    <tr>\n",
       "      <th>79</th>\n",
       "      <td>2</td>\n",
       "      <td>4.666667</td>\n",
       "      <td>impression</td>\n",
       "      <td>listened</td>\n",
       "    </tr>\n",
       "  </tbody>\n",
       "</table>\n",
       "</div>"
      ],
      "text/plain": [
       "    eval_id    Rating    Category condition\n",
       "39        1  6.000000        hire  listened\n",
       "78        1  7.000000  impression  listened\n",
       "0         1  6.000000   intellect  listened\n",
       "40        2  4.000000        hire  listened\n",
       "79        2  4.666667  impression  listened"
      ]
     },
     "execution_count": 47,
     "metadata": {},
     "output_type": "execute_result"
    }
   ],
   "source": [
    "# Q5 (code):\n",
    "# Filter the ratings DataFrame to include only 'thoughtful', 'competent', and 'intelligent' categories\n",
    "\n",
    "df_filtered = df_ratings[(df_ratings['Category']=='competent') | (df_ratings['Category']== 'thoughtful') | (df_ratings['Category'] == 'intelligent')] #https://stackoverflow.com/questions/43238504/how-to-subset-a-pandas-dataframe-based-on-a-condtion-of-a-categorical-variable\n",
    "df_filtered.head()\n",
    "\n",
    "# Calculate the mean intellect rating for each evaluator\n",
    "# Group by 'eval_id' and calculate mean, then reset the index to convert groupby object back to DataFrame\n",
    "\n",
    "mean_rating_per_eval = df_filtered.groupby('eval_id')['Rating'].mean()#https://www.geeksforgeeks.org/python-pandas-dataframe-groupby/\n",
    "mean_rating_per_eval = mean_rating_per_eval.reset_index() #https://pandas.pydata.org/docs/reference/api/pandas.DataFrame.reset_index.html\n",
    "\n",
    "\n",
    "# Add a 'Category' column with the value 'intellect' for these rows\n",
    "mean_rating_per_eval['Category'] = 'intellect'\n",
    "\n",
    "\n",
    "\n",
    "# Create a DataFrame for 'impression' and 'hire' ratings\n",
    "\n",
    "df_impression  = df_ratings[(df_ratings['Category']== 'impression')]\n",
    "df_hire = df_ratings[(df_ratings['Category']=='hire')]\n",
    "\n",
    "mean_hire = df_hire.groupby('eval_id')['Rating'].mean()\n",
    "mean_hire = mean_hire.reset_index()\n",
    "mean_hire['Category'] = 'hire'\n",
    "\n",
    "mean_impression = df_impression.groupby('eval_id')['Rating'].mean()\n",
    "mean_impression = mean_impression.reset_index()\n",
    "mean_impression['Category'] = 'impression'\n",
    "\n",
    "\n",
    "\n",
    "# Combine the DataFrames to create 'ratings2'\n",
    "# Concatenate the 'intellect_mean' DataFrame with the 'other_ratings' DataFrame\n",
    "\n",
    "ratings2 = pd.concat([mean_rating_per_eval, mean_hire, mean_impression], ignore_index=True) #https://www.geeksforgeeks.org/how-to-concatenate-two-or-more-pandas-dataframes/\n",
    "\n",
    "\n",
    "\n",
    "\n",
    "\n",
    "\n",
    "# Join 'ratings2' with the 'df_evaluators' DataFrame to add the 'condition' column\n",
    "\n",
    "ratings2 = ratings2.merge(df_evaluators[['eval_id', 'condition']], on='eval_id', how='left') #https://www.geeksforgeeks.org/how-to-concatenate-two-or-more-pandas-dataframes/\n",
    "\n",
    "\n",
    "# Select only the necessary columns as per the structure required\n",
    "\n",
    "\n",
    "                                        \n",
    "# Arrange by 'eval_id' and 'Category'\n",
    "ratings2 = ratings2.sort_values(by=['eval_id', 'Category']) #https://www.freecodecamp.org/news/how-to-sort-values-in-pandas/\n",
    "\n",
    "\n",
    "\n",
    "# Display the first few rows of the final 'ratings2' DataFrame to verify\n",
    "ratings2.head()"
   ]
  },
  {
   "cell_type": "markdown",
   "metadata": {
    "id": "fOmtKCzEpoOa"
   },
   "source": [
    "###Step 3: Perform descriptive and inferential statistical analyses, including testing assumptions and conducting independent t-tests.\n",
    "\n",
    "We are going to run the t-tests for Intellect, Hire and Impression; each time comparing evaluators overall ratings for the listened group versus overall ratings for the read group to see if there was a significant difference between the two conditions: i.e., did the evaluators who listened to pitches give a significant higher or lower rating than evaluators that read pitches?\n",
    "\n",
    "**Question 6**:\n",
    "\n",
    "a. In terms of hypotheses, how can we phrase the hypothesis?\n",
    "\n",
    "b. Which t-test should we choose, one-tail or two-tail? And explian why.\n",
    "\n",
    "c. What are the independent variable and the dependent variable here?\n",
    "\n"
   ]
  },
  {
   "cell_type": "code",
   "execution_count": 48,
   "metadata": {
    "id": "duti45rG22eS"
   },
   "outputs": [],
   "source": [
    "# Q6a (answer in words):\n",
    "# Null hypothesis: (H0:μ1=μ2) There is no significant difference between overall ratings between reading or listening to a resume \n",
    "\n",
    "# Alternative hypothesis:(H1:μ1/=μ2) There is a significant difference between overall ratings\n",
    "\n",
    "\n",
    "# we could phrase the null hypothesis for these tests as there is no significant difference between overall ratings on the {insert trait} scale between evaluators who listened to resume pitches and evaluators who read the resume pitches (H0:μ1=μ2). Alternatively, we could state it as there will be a significant difference between overall ratings on the {insert trait} scale between evaluators who listened to resume pitches and evaluators who read the resume pitches (H1:μ1≠μ2)."
   ]
  },
  {
   "cell_type": "code",
   "execution_count": 49,
   "metadata": {
    "id": "EkoM_0js3fyS"
   },
   "outputs": [],
   "source": [
    "# Q6b (answer in words):\n",
    "# Which t-test should we choose, one-tail or two-tail? Explian why.\n",
    "# Since we are interested in the whether the there is a difference or not rather than the direction of the difference, a two-tail is appropriate\n"
   ]
  },
  {
   "cell_type": "code",
   "execution_count": 50,
   "metadata": {
    "id": "073zOlIsI5ws"
   },
   "outputs": [],
   "source": [
    "# Q6c (answer in words):\n",
    "# What are the independent variable and the dependent variable here?\n",
    "\n",
    "# Here the dependent variable is the overall rating and the independent variable is the way of receiving the resume\n"
   ]
  },
  {
   "cell_type": "markdown",
   "metadata": {
    "id": "4g-SpuDX23iL"
   },
   "source": [
    "\n",
    "To clarify, we are going to run three between-subjects t-tests in total; one for intellect ratings; one for hire ratings; one for impression ratings.\n",
    "\n",
    "**Instructions:**\n",
    "\n",
    "1. Descriptive analysis of the ratings.\n",
    "\n",
    "2. Test for normal distribution (Shapiro-Wilk test) and homogeneity of variances (Levene's test) for the intellect, impression, and hire ratings.\n",
    "\n",
    "3. Conduct independent t-tests comparing intellect, impression, and hire ratings between conditions (listened vs. read).\n",
    "\n",
    "Hints: three T-tests need to be performed.\n",
    "\n",
    "**Question 7**:\n",
    "\n",
    "a: Print the test results.\n",
    "\n",
    "b: Interpret the results of the above descriptive statistics, Shapiro-Wilk test, Levene's test, and independent t-tests. Explian why we use these tests and how we made our decisions based on the test result."
   ]
  },
  {
   "cell_type": "code",
   "execution_count": 51,
   "metadata": {
    "id": "QD3ZZRrAq4Gc"
   },
   "outputs": [
    {
     "name": "stdout",
     "output_type": "stream",
     "text": [
      "Descriptive Analysis Intellect\n",
      "              Ratings  listened      read\n",
      "0                Mean  5.634921  3.648148\n",
      "1  Standard Deviation  1.608674  1.911343\n",
      "\n",
      "\n",
      "Descriptive Analysis Impression\n",
      "              Ratings  listened      read\n",
      "0                Mean  5.968254  4.074074\n",
      "1  Standard Deviation  1.917477  2.233306\n",
      "\n",
      "\n",
      "Descriptive Analysis Hire\n",
      "              Ratings  listened      read\n",
      "0                Mean  4.714286  2.888889\n",
      "1  Standard Deviation  2.261479  2.054805\n",
      "\n",
      "\n",
      "Shapiro-Wilk test for Intellect \n",
      "ShapiroResult(statistic=0.9350408315658569, pvalue=0.17365092039108276)\n",
      "ShapiroResult(statistic=0.9512398838996887, pvalue=0.4447984993457794)\n",
      "\n",
      "\n",
      "Shapiro-Wilk test for Impression\n",
      "ShapiroResult(statistic=0.9394756555557251, pvalue=0.21276134252548218)\n",
      "ShapiroResult(statistic=0.9483762383460999, pvalue=0.40011659264564514)\n",
      "\n",
      "\n",
      "Shapiro-Wilk test for Hire\n",
      "ShapiroResult(statistic=0.9390669465065002, pvalue=0.20883114635944366)\n",
      "ShapiroResult(statistic=0.9034498333930969, pvalue=0.06600641459226608)\n",
      "\n",
      "\n",
      "Levene test for Intellect\n",
      "LeveneResult(statistic=0.8980185752566812, pvalue=0.34946205893248505)\n",
      "\n",
      "\n",
      "Levene test for Impression\n",
      "LeveneResult(statistic=0.39045326236607025, pvalue=0.5358960150374064)\n",
      "\n",
      "\n",
      "Levene test for hire\n",
      "LeveneResult(statistic=0.10663746145199855, pvalue=0.7458453933447955)\n",
      "\n",
      "\n",
      "T-test for Intellect\n",
      "Ttest_indResult(statistic=3.5259329220482414, pvalue=0.0011444414996286821)\n",
      "\n",
      "\n",
      "T-test for Impression\n",
      "Ttest_indResult(statistic=2.850766179025179, pvalue=0.007091060616710596)\n",
      "\n",
      "\n",
      "T-test for Hire\n",
      "Ttest_indResult(statistic=2.620100218173143, pvalue=0.012674511839824125)\n",
      "\n",
      "\n"
     ]
    }
   ],
   "source": [
    "###Q7a (code):\n",
    "from scipy.stats import shapiro, levene, ttest_ind # used for ...\n",
    "\n",
    "# Descriptive analysis of the ratings\n",
    "\n",
    "ratings2_intellect = ratings2[ratings2['Category'] =='intellect']\n",
    "ratings2_hire = ratings2[ratings2['Category'] == 'hire']\n",
    "ratings2_impression = ratings2[ratings2['Category'] == 'impression']\n",
    "ratings2_impression.head()\n",
    "\n",
    "mean1 = ratings2_intellect.loc[ratings2_intellect['condition'] == 'listened', 'Rating'].mean() #https://www.geeksforgeeks.org/python-pandas-dataframe-loc/\n",
    "std1 = ratings2_intellect.loc[ratings2_intellect['condition'] == 'listened', 'Rating'].std()\n",
    "mean2 = ratings2_intellect.loc[ratings2_intellect['condition'] == 'read', 'Rating'].mean()\n",
    "std2 = ratings2_intellect.loc[ratings2_intellect['condition'] == 'read', 'Rating'].std()\n",
    "\n",
    "print(\"Descriptive Analysis Intellect\")\n",
    "print(pd.DataFrame({\n",
    "    'Ratings': ['Mean', 'Standard Deviation'],\n",
    "    'listened': [mean1, std1],\n",
    "    'read': [mean2, std2]\n",
    "}))\n",
    "print(\"\\n\")\n",
    "\n",
    "\n",
    "mean1 = ratings2_impression.loc[ratings2_impression['condition'] == 'listened', 'Rating'].mean()\n",
    "std1 = ratings2_impression.loc[ratings2_impression['condition'] == 'listened', 'Rating'].std()\n",
    "mean2 = ratings2_impression.loc[ratings2_impression['condition'] == 'read', 'Rating'].mean()\n",
    "std2 = ratings2_impression.loc[ratings2_impression['condition'] == 'read', 'Rating'].std()\n",
    "\n",
    "print(\"Descriptive Analysis Impression\")\n",
    "print(pd.DataFrame({\n",
    "    'Ratings': ['Mean', 'Standard Deviation'],\n",
    "    'listened': [mean1, std1],\n",
    "    'read': [mean2, std2]\n",
    "}))\n",
    "print(\"\\n\")\n",
    "\n",
    "\n",
    "\n",
    "mean1 = ratings2_hire.loc[ratings2_hire['condition'] == 'listened', 'Rating'].mean()\n",
    "std1 = ratings2_hire.loc[ratings2_hire['condition'] == 'listened', 'Rating'].std()\n",
    "mean2 = ratings2_hire.loc[ratings2_hire['condition'] == 'read', 'Rating'].mean()\n",
    "std2 = ratings2_hire.loc[ratings2_hire['condition'] == 'read', 'Rating'].std()\n",
    "\n",
    "print(\"Descriptive Analysis Hire\")\n",
    "print(pd.DataFrame({\n",
    "    'Ratings': ['Mean', 'Standard Deviation'],\n",
    "    'listened': [mean1, std1],\n",
    "    'read': [mean2, std2]\n",
    "}))\n",
    "print(\"\\n\")\n",
    "\n",
    "\n",
    "\n",
    "\n",
    "# Test for normal distribution (Shapiro-Wilk test)\n",
    "\n",
    "\n",
    "print(\"Shapiro-Wilk test for Intellect \")\n",
    "print(shapiro(ratings2_intellect.loc[ratings2_intellect['condition'] == 'listened', 'Rating'])) \n",
    "print(shapiro(ratings2_intellect.loc[ratings2_intellect['condition'] == 'read', 'Rating']))\n",
    "print(\"\\n\")\n",
    "\n",
    "\n",
    "\n",
    "print(\"Shapiro-Wilk test for Impression\")\n",
    "print(shapiro(ratings2_impression.loc[ratings2_impression['condition'] == 'listened', 'Rating'])) \n",
    "print(shapiro(ratings2_impression.loc[ratings2_impression['condition'] == 'read', 'Rating']))\n",
    "print(\"\\n\")\n",
    "\n",
    "\n",
    "print(\"Shapiro-Wilk test for Hire\")\n",
    "print(shapiro(ratings2_hire.loc[ratings2_hire['condition'] == 'listened', 'Rating'])) \n",
    "print(shapiro(ratings2_hire.loc[ratings2_hire['condition'] == 'read', 'Rating']))\n",
    "print(\"\\n\")\n",
    "\n",
    "\n",
    "\n",
    "# Test for homogeneity of variances (Levene's test)\n",
    "\n",
    "print(\"Levene test for Intellect\")\n",
    "print(levene(ratings2_intellect.loc[ratings2_intellect['condition'] == 'listened', 'Rating'], ratings2_intellect.loc[ratings2_intellect['condition'] == 'read', 'Rating'])) #https://docs.scipy.org/doc/scipy/reference/generated/scipy.stats.levene.html\n",
    "print(\"\\n\")\n",
    "\n",
    "print(\"Levene test for Impression\")\n",
    "print(levene(ratings2_impression.loc[ratings2_impression['condition'] == 'listened', 'Rating'], ratings2_impression.loc[ratings2_impression['condition'] == 'read', 'Rating']))\n",
    "print(\"\\n\")\n",
    "\n",
    "print(\"Levene test for hire\")\n",
    "print(levene(ratings2_hire.loc[ratings2_hire['condition'] == 'listened', 'Rating'], ratings2_hire.loc[ratings2_hire['condition'] == 'read', 'Rating']))\n",
    "print(\"\\n\")\n",
    "\n",
    "# Independent t-tests\n",
    "\n",
    "print(\"T-test for Intellect\")\n",
    "print(ttest_ind(ratings2_intellect.loc[ratings2_intellect['condition'] == 'listened', 'Rating'], ratings2_intellect.loc[ratings2_intellect['condition'] == 'read', 'Rating']))\n",
    "print(\"\\n\")\n",
    "\n",
    "print(\"T-test for Impression\")\n",
    "print(ttest_ind(ratings2_impression.loc[ratings2_impression['condition'] == 'listened', 'Rating'], ratings2_impression.loc[ratings2_impression['condition'] == 'read', 'Rating']))\n",
    "print(\"\\n\")\n",
    "\n",
    "print(\"T-test for Hire\")\n",
    "print(ttest_ind(ratings2_hire.loc[ratings2_hire['condition'] == 'listened', 'Rating'], ratings2_hire.loc[ratings2_hire['condition'] == 'read', 'Rating']))\n",
    "print(\"\\n\")\n",
    "\n",
    "\n",
    "#ratings_desc, shapiro_results, levene_results, ttest_results"
   ]
  },
  {
   "cell_type": "code",
   "execution_count": 52,
   "metadata": {
    "id": "aifm_T8UQwYm"
   },
   "outputs": [],
   "source": [
    "#Q7b (answer in words):"
   ]
  },
  {
   "cell_type": "code",
   "execution_count": 53,
   "metadata": {},
   "outputs": [],
   "source": [
    "# From the descriptive analysis we can already prematurely see that the means between reading or listened to an applicant's resume have a big difference.\n",
    "# While the standard deviations seem to be roughly equal\n",
    "\n",
    "# Firstly, since we want to perform t-tests to compare the sample means of between reading and listening for the Category Intellect, Impression and Hire.\n",
    "# We need to make sure that the samples of each of these are normal, since perfoming a t-test works under the assumption that the data of which the means are compared are both normally distributed.\n",
    "# Thus since we perform the t-test 3 times, we need that the sub samples of reading or listening for the category Intellect, Impression and Hire should be normally distributed\n",
    "# Hence, we perform a Shapiro-Wilks test for every subsample and we see that we fail to reject the null hypothesis of normality under the 5% significance level for all 6 sub samples.\n",
    "\n",
    "# The second assumption of the t-test is that both samples have the same variance. \n",
    "# In order to test this we use the Levene test to test the homogeinity of the variances.\n",
    "# Again we fail to reject the null hypothesis under the 5% and 10% significance level for all categories.\n",
    "\n",
    "# Since we fail to find evidence against the assumptions of the t-tests. We continue to perform them.\n",
    "# Here we see that the p-values are all below 0.05 and even below 0.01 for Intellect and Impression,\n",
    "# Meaning we reject the null hypothesis stating that the means among listening and reading are the same under the 5% significance level across all categories.\n",
    "# Showing that the evaluators response differently to reading or listening to a resume.\n"
   ]
  }
 ],
 "metadata": {
  "colab": {
   "provenance": []
  },
  "kernelspec": {
   "display_name": "Python 3 (ipykernel)",
   "language": "python",
   "name": "python3"
  },
  "language_info": {
   "codemirror_mode": {
    "name": "ipython",
    "version": 3
   },
   "file_extension": ".py",
   "mimetype": "text/x-python",
   "name": "python",
   "nbconvert_exporter": "python",
   "pygments_lexer": "ipython3",
   "version": "3.11.4"
  }
 },
 "nbformat": 4,
 "nbformat_minor": 1
}
